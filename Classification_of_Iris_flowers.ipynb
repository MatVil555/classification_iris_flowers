{
 "cells": [
  {
   "cell_type": "markdown",
   "id": "fedc2b3e",
   "metadata": {},
   "source": [
    "# Training and classification of 3 iris flowers species"
   ]
  },
  {
   "cell_type": "markdown",
   "id": "68be4243",
   "metadata": {},
   "source": [
    "## Measurement of the structure of Iris flower, belonging to the species Virginica, Versicolor and Setosa"
   ]
  },
  {
   "cell_type": "markdown",
   "id": "386996da",
   "metadata": {},
   "source": [
    "Importing dataset and making a Pandas Dataframe"
   ]
  },
  {
   "cell_type": "code",
   "execution_count": 31,
   "id": "82d076f8",
   "metadata": {},
   "outputs": [],
   "source": [
    "import csv\n",
    "import pandas as pd\n",
    "import numpy as np\n",
    "from sklearn.cluster import KMeans\n",
    "from sklearn.model_selection import train_test_split\n",
    "from sklearn.naive_bayes import GaussianNB\n",
    "\n",
    "import matplotlib.pyplot as plt\n",
    "import seaborn as sns"
   ]
  },
  {
   "cell_type": "code",
   "execution_count": 49,
   "id": "211454c5",
   "metadata": {},
   "outputs": [
    {
     "data": {
      "text/html": [
       "<div>\n",
       "<style scoped>\n",
       "    .dataframe tbody tr th:only-of-type {\n",
       "        vertical-align: middle;\n",
       "    }\n",
       "\n",
       "    .dataframe tbody tr th {\n",
       "        vertical-align: top;\n",
       "    }\n",
       "\n",
       "    .dataframe thead th {\n",
       "        text-align: right;\n",
       "    }\n",
       "</style>\n",
       "<table border=\"1\" class=\"dataframe\">\n",
       "  <thead>\n",
       "    <tr style=\"text-align: right;\">\n",
       "      <th></th>\n",
       "      <th>Sepal width [cm]</th>\n",
       "      <th>Sepal length [cm]</th>\n",
       "      <th>Petal width [cm]</th>\n",
       "      <th>Petal length</th>\n",
       "      <th>Variety name</th>\n",
       "    </tr>\n",
       "  </thead>\n",
       "  <tbody>\n",
       "    <tr>\n",
       "      <th>0</th>\n",
       "      <td>4.9</td>\n",
       "      <td>3.0</td>\n",
       "      <td>1.4</td>\n",
       "      <td>0.2</td>\n",
       "      <td>Iris-setosa</td>\n",
       "    </tr>\n",
       "    <tr>\n",
       "      <th>1</th>\n",
       "      <td>4.7</td>\n",
       "      <td>3.2</td>\n",
       "      <td>1.3</td>\n",
       "      <td>0.2</td>\n",
       "      <td>Iris-setosa</td>\n",
       "    </tr>\n",
       "    <tr>\n",
       "      <th>2</th>\n",
       "      <td>4.6</td>\n",
       "      <td>3.1</td>\n",
       "      <td>1.5</td>\n",
       "      <td>0.2</td>\n",
       "      <td>Iris-setosa</td>\n",
       "    </tr>\n",
       "    <tr>\n",
       "      <th>3</th>\n",
       "      <td>5.0</td>\n",
       "      <td>3.6</td>\n",
       "      <td>1.4</td>\n",
       "      <td>0.2</td>\n",
       "      <td>Iris-setosa</td>\n",
       "    </tr>\n",
       "    <tr>\n",
       "      <th>4</th>\n",
       "      <td>5.4</td>\n",
       "      <td>3.9</td>\n",
       "      <td>1.7</td>\n",
       "      <td>0.4</td>\n",
       "      <td>Iris-setosa</td>\n",
       "    </tr>\n",
       "  </tbody>\n",
       "</table>\n",
       "</div>"
      ],
      "text/plain": [
       "   Sepal width [cm]  Sepal length [cm]  Petal width [cm]  Petal length  \\\n",
       "0               4.9                3.0               1.4           0.2   \n",
       "1               4.7                3.2               1.3           0.2   \n",
       "2               4.6                3.1               1.5           0.2   \n",
       "3               5.0                3.6               1.4           0.2   \n",
       "4               5.4                3.9               1.7           0.4   \n",
       "\n",
       "  Variety name  \n",
       "0  Iris-setosa  \n",
       "1  Iris-setosa  \n",
       "2  Iris-setosa  \n",
       "3  Iris-setosa  \n",
       "4  Iris-setosa  "
      ]
     },
     "execution_count": 49,
     "metadata": {},
     "output_type": "execute_result"
    }
   ],
   "source": [
    "#temp_tot = {'stem': cols[0], 'stem2': cols[1], 'stem3': cols[2], 'stem4': cols[3], 'stem5': cols[4]}\n",
    "\n",
    "iris=pd.read_csv(\"iris.csv\")\n",
    "iris.rename(columns={'5.1': 'Sepal width [cm]', '3.5': 'Sepal length [cm]','1.4': 'Petal width [cm]','0.2': 'Petal length','Iris-setosa': 'Variety name'}, inplace=True)\n",
    "iris.head()"
   ]
  },
  {
   "cell_type": "markdown",
   "id": "a8edcd5a",
   "metadata": {},
   "source": [
    "Some clustering to observe if are there patterns"
   ]
  },
  {
   "cell_type": "code",
   "execution_count": 50,
   "id": "7f9116d0",
   "metadata": {
    "scrolled": true
   },
   "outputs": [
    {
     "ename": "KeyError",
     "evalue": "'a'",
     "output_type": "error",
     "traceback": [
      "\u001b[1;31m---------------------------------------------------------------------------\u001b[0m",
      "\u001b[1;31mKeyError\u001b[0m                                  Traceback (most recent call last)",
      "File \u001b[1;32m~\\anaconda3\\envs\\myenv\\lib\\site-packages\\pandas\\core\\indexes\\base.py:3621\u001b[0m, in \u001b[0;36mIndex.get_loc\u001b[1;34m(self, key, method, tolerance)\u001b[0m\n\u001b[0;32m   3620\u001b[0m \u001b[38;5;28;01mtry\u001b[39;00m:\n\u001b[1;32m-> 3621\u001b[0m     \u001b[38;5;28;01mreturn\u001b[39;00m \u001b[38;5;28;43mself\u001b[39;49m\u001b[38;5;241;43m.\u001b[39;49m\u001b[43m_engine\u001b[49m\u001b[38;5;241;43m.\u001b[39;49m\u001b[43mget_loc\u001b[49m\u001b[43m(\u001b[49m\u001b[43mcasted_key\u001b[49m\u001b[43m)\u001b[49m\n\u001b[0;32m   3622\u001b[0m \u001b[38;5;28;01mexcept\u001b[39;00m \u001b[38;5;167;01mKeyError\u001b[39;00m \u001b[38;5;28;01mas\u001b[39;00m err:\n",
      "File \u001b[1;32m~\\anaconda3\\envs\\myenv\\lib\\site-packages\\pandas\\_libs\\index.pyx:136\u001b[0m, in \u001b[0;36mpandas._libs.index.IndexEngine.get_loc\u001b[1;34m()\u001b[0m\n",
      "File \u001b[1;32m~\\anaconda3\\envs\\myenv\\lib\\site-packages\\pandas\\_libs\\index.pyx:163\u001b[0m, in \u001b[0;36mpandas._libs.index.IndexEngine.get_loc\u001b[1;34m()\u001b[0m\n",
      "File \u001b[1;32mpandas\\_libs\\hashtable_class_helper.pxi:5198\u001b[0m, in \u001b[0;36mpandas._libs.hashtable.PyObjectHashTable.get_item\u001b[1;34m()\u001b[0m\n",
      "File \u001b[1;32mpandas\\_libs\\hashtable_class_helper.pxi:5206\u001b[0m, in \u001b[0;36mpandas._libs.hashtable.PyObjectHashTable.get_item\u001b[1;34m()\u001b[0m\n",
      "\u001b[1;31mKeyError\u001b[0m: 'a'",
      "\nThe above exception was the direct cause of the following exception:\n",
      "\u001b[1;31mKeyError\u001b[0m                                  Traceback (most recent call last)",
      "Input \u001b[1;32mIn [50]\u001b[0m, in \u001b[0;36m<cell line: 1>\u001b[1;34m()\u001b[0m\n\u001b[1;32m----> 1\u001b[0m y \u001b[38;5;241m=\u001b[39m \u001b[43miris\u001b[49m\u001b[43m[\u001b[49m\u001b[38;5;124;43m'\u001b[39;49m\u001b[38;5;124;43ma\u001b[39;49m\u001b[38;5;124;43m'\u001b[39;49m\u001b[43m]\u001b[49m\n\u001b[0;32m      2\u001b[0m x1 \u001b[38;5;241m=\u001b[39m iris[\u001b[38;5;124m'\u001b[39m\u001b[38;5;124mb\u001b[39m\u001b[38;5;124m'\u001b[39m]\n\u001b[0;32m      3\u001b[0m iris[\u001b[38;5;124m'\u001b[39m\u001b[38;5;124me\u001b[39m\u001b[38;5;124m'\u001b[39m] \u001b[38;5;241m=\u001b[39m iris[\u001b[38;5;124m'\u001b[39m\u001b[38;5;124me\u001b[39m\u001b[38;5;124m'\u001b[39m]\u001b[38;5;241m.\u001b[39mmap({\u001b[38;5;124m'\u001b[39m\u001b[38;5;124mIris-setosa\u001b[39m\u001b[38;5;124m'\u001b[39m: \u001b[38;5;241m1\u001b[39m, \u001b[38;5;124m'\u001b[39m\u001b[38;5;124mIris-versicolor\u001b[39m\u001b[38;5;124m'\u001b[39m: \u001b[38;5;241m2\u001b[39m,\u001b[38;5;124m'\u001b[39m\u001b[38;5;124mIris-virginica\u001b[39m\u001b[38;5;124m'\u001b[39m: \u001b[38;5;241m3\u001b[39m})\n",
      "File \u001b[1;32m~\\anaconda3\\envs\\myenv\\lib\\site-packages\\pandas\\core\\frame.py:3505\u001b[0m, in \u001b[0;36mDataFrame.__getitem__\u001b[1;34m(self, key)\u001b[0m\n\u001b[0;32m   3503\u001b[0m \u001b[38;5;28;01mif\u001b[39;00m \u001b[38;5;28mself\u001b[39m\u001b[38;5;241m.\u001b[39mcolumns\u001b[38;5;241m.\u001b[39mnlevels \u001b[38;5;241m>\u001b[39m \u001b[38;5;241m1\u001b[39m:\n\u001b[0;32m   3504\u001b[0m     \u001b[38;5;28;01mreturn\u001b[39;00m \u001b[38;5;28mself\u001b[39m\u001b[38;5;241m.\u001b[39m_getitem_multilevel(key)\n\u001b[1;32m-> 3505\u001b[0m indexer \u001b[38;5;241m=\u001b[39m \u001b[38;5;28;43mself\u001b[39;49m\u001b[38;5;241;43m.\u001b[39;49m\u001b[43mcolumns\u001b[49m\u001b[38;5;241;43m.\u001b[39;49m\u001b[43mget_loc\u001b[49m\u001b[43m(\u001b[49m\u001b[43mkey\u001b[49m\u001b[43m)\u001b[49m\n\u001b[0;32m   3506\u001b[0m \u001b[38;5;28;01mif\u001b[39;00m is_integer(indexer):\n\u001b[0;32m   3507\u001b[0m     indexer \u001b[38;5;241m=\u001b[39m [indexer]\n",
      "File \u001b[1;32m~\\anaconda3\\envs\\myenv\\lib\\site-packages\\pandas\\core\\indexes\\base.py:3623\u001b[0m, in \u001b[0;36mIndex.get_loc\u001b[1;34m(self, key, method, tolerance)\u001b[0m\n\u001b[0;32m   3621\u001b[0m     \u001b[38;5;28;01mreturn\u001b[39;00m \u001b[38;5;28mself\u001b[39m\u001b[38;5;241m.\u001b[39m_engine\u001b[38;5;241m.\u001b[39mget_loc(casted_key)\n\u001b[0;32m   3622\u001b[0m \u001b[38;5;28;01mexcept\u001b[39;00m \u001b[38;5;167;01mKeyError\u001b[39;00m \u001b[38;5;28;01mas\u001b[39;00m err:\n\u001b[1;32m-> 3623\u001b[0m     \u001b[38;5;28;01mraise\u001b[39;00m \u001b[38;5;167;01mKeyError\u001b[39;00m(key) \u001b[38;5;28;01mfrom\u001b[39;00m \u001b[38;5;21;01merr\u001b[39;00m\n\u001b[0;32m   3624\u001b[0m \u001b[38;5;28;01mexcept\u001b[39;00m \u001b[38;5;167;01mTypeError\u001b[39;00m:\n\u001b[0;32m   3625\u001b[0m     \u001b[38;5;66;03m# If we have a listlike key, _check_indexing_error will raise\u001b[39;00m\n\u001b[0;32m   3626\u001b[0m     \u001b[38;5;66;03m#  InvalidIndexError. Otherwise we fall through and re-raise\u001b[39;00m\n\u001b[0;32m   3627\u001b[0m     \u001b[38;5;66;03m#  the TypeError.\u001b[39;00m\n\u001b[0;32m   3628\u001b[0m     \u001b[38;5;28mself\u001b[39m\u001b[38;5;241m.\u001b[39m_check_indexing_error(key)\n",
      "\u001b[1;31mKeyError\u001b[0m: 'a'"
     ]
    }
   ],
   "source": [
    "y = iris['a']\n",
    "x1 = iris['b']\n",
    "iris['e'] = iris['e'].map({'Iris-setosa': 1, 'Iris-versicolor': 2,'Iris-virginica': 3})\n",
    "iris_np=pd.DataFrame(iris[['a', 'b', 'c','d','e']]).to_numpy().astype(np.float32)\n",
    "\n",
    "iris_np[:,1]\n",
    "    \n"
   ]
  },
  {
   "cell_type": "code",
   "execution_count": null,
   "id": "b133b886",
   "metadata": {},
   "outputs": [],
   "source": [
    "#data processing\n",
    "clus_C=KMeans(n_clusters=3)\n",
    "out=clus_C.fit_predict(iris_np[:,0:3])\n",
    "\n",
    "plt.scatter(y,x1,c=out)\n",
    "plt.xlabel('size')\n",
    "plt.ylabel('price')\n",
    "\n",
    "plt.show()\n"
   ]
  },
  {
   "cell_type": "markdown",
   "id": "853b91e8",
   "metadata": {},
   "source": [
    "# Decision trees"
   ]
  },
  {
   "cell_type": "code",
   "execution_count": null,
   "id": "834bd696",
   "metadata": {},
   "outputs": [],
   "source": [
    "X=iris_np[:, :-1]\n",
    "Y_truth=iris_np[:,-1] #labels, groud truth\n",
    "X.shape"
   ]
  },
  {
   "cell_type": "code",
   "execution_count": null,
   "id": "73552ea5",
   "metadata": {},
   "outputs": [],
   "source": [
    "Y_truth"
   ]
  },
  {
   "cell_type": "markdown",
   "id": "37cff1e3",
   "metadata": {},
   "source": [
    "#### get list of possible classes, and check if the sample is balances"
   ]
  },
  {
   "cell_type": "code",
   "execution_count": null,
   "id": "99ca7a0f",
   "metadata": {},
   "outputs": [],
   "source": [
    "np.unique(Y_truth, return_counts=True)"
   ]
  },
  {
   "cell_type": "markdown",
   "id": "d56db350",
   "metadata": {},
   "source": [
    "#### the sample is balanced, even if small"
   ]
  },
  {
   "cell_type": "markdown",
   "id": "5b89b226",
   "metadata": {},
   "source": [
    "## Create train and test sets"
   ]
  },
  {
   "cell_type": "code",
   "execution_count": null,
   "id": "3c3150d1",
   "metadata": {},
   "outputs": [],
   "source": [
    "X_train, X_test, Y_train, Y_test = train_test_split(X,Y_truth,test_size=0.2)\n",
    "X_train.shape"
   ]
  },
  {
   "cell_type": "code",
   "execution_count": null,
   "id": "37072fee",
   "metadata": {},
   "outputs": [],
   "source": [
    "X_test.shape"
   ]
  },
  {
   "cell_type": "markdown",
   "id": "cef5b70a",
   "metadata": {},
   "source": [
    "## Train the classifier model"
   ]
  },
  {
   "cell_type": "code",
   "execution_count": 51,
   "id": "7f675530",
   "metadata": {},
   "outputs": [],
   "source": [
    "clf=GaussianNB()\n",
    "clf.fit(X_train,Y_train)\n",
    "Y_test_predicted=clf.predict(X_test)"
   ]
  },
  {
   "cell_type": "code",
   "execution_count": 52,
   "id": "dc6542eb",
   "metadata": {
    "scrolled": true
   },
   "outputs": [
    {
     "data": {
      "text/plain": [
       "array([3., 1., 3., 3., 3., 2., 2., 2., 3., 2., 1., 3., 3., 1., 3., 2., 3.,\n",
       "       2., 3., 3., 1., 2., 1., 1., 1., 2., 3., 2., 3., 3.], dtype=float32)"
      ]
     },
     "execution_count": 52,
     "metadata": {},
     "output_type": "execute_result"
    }
   ],
   "source": [
    "Y_test_predicted"
   ]
  },
  {
   "cell_type": "code",
   "execution_count": 53,
   "id": "02696951",
   "metadata": {},
   "outputs": [
    {
     "data": {
      "text/plain": [
       "array([3., 1., 3., 3., 3., 2., 2., 2., 3., 2., 1., 3., 3., 1., 3., 2., 3.,\n",
       "       2., 3., 3., 1., 2., 1., 1., 1., 2., 3., 2., 3., 3.], dtype=float32)"
      ]
     },
     "execution_count": 53,
     "metadata": {},
     "output_type": "execute_result"
    }
   ],
   "source": [
    "Y_test"
   ]
  },
  {
   "cell_type": "markdown",
   "id": "a7aaf0e9",
   "metadata": {},
   "source": [
    "## Evaluate the model"
   ]
  },
  {
   "cell_type": "code",
   "execution_count": 54,
   "id": "0ca1bd62",
   "metadata": {},
   "outputs": [],
   "source": [
    "from sklearn.metrics import accuracy_score, precision_recall_fscore_support\n",
    "\n",
    "acc=accuracy_score(Y_test,Y_test_predicted)"
   ]
  },
  {
   "cell_type": "code",
   "execution_count": 55,
   "id": "184518c0",
   "metadata": {},
   "outputs": [
    {
     "data": {
      "text/plain": [
       "1.0"
      ]
     },
     "execution_count": 55,
     "metadata": {},
     "output_type": "execute_result"
    }
   ],
   "source": [
    "acc "
   ]
  },
  {
   "cell_type": "markdown",
   "id": "d7962cea",
   "metadata": {},
   "source": [
    "#### quite good!"
   ]
  },
  {
   "cell_type": "code",
   "execution_count": 56,
   "id": "febf60cf",
   "metadata": {},
   "outputs": [
    {
     "name": "stdout",
     "output_type": "stream",
     "text": [
      "Class: 0\n",
      "Number of items: 7\n",
      "Precision: 1.0\n",
      "Recall: 1.0\n",
      "F1_score: 1.0\n",
      " \n",
      "\n",
      "Class: 1\n",
      "Number of items: 9\n",
      "Precision: 1.0\n",
      "Recall: 1.0\n",
      "F1_score: 1.0\n",
      " \n",
      "\n",
      "Class: 2\n",
      "Number of items: 14\n",
      "Precision: 1.0\n",
      "Recall: 1.0\n",
      "F1_score: 1.0\n",
      " \n",
      "\n"
     ]
    }
   ],
   "source": [
    "#precision, recall and support of each class\n",
    "\n",
    "p, r, f1, s=precision_recall_fscore_support(Y_test,Y_test_predicted)\n",
    "\n",
    "for c in range(len(p)):\n",
    "    print(f\"Class: {c}\" )\n",
    "    print(f\"Number of items: {s[c]}\" )\n",
    "    print(f\"Precision: {p[c]}\" )\n",
    "    print(f\"Recall: {r[c]}\" )\n",
    "    print(f\"F1_score: {f1[c]}\\n \\n\" )"
   ]
  },
  {
   "cell_type": "markdown",
   "id": "66e94862",
   "metadata": {},
   "source": [
    "yes very good:\n",
    "1) the F1 score is close to 1 \n",
    "\n",
    "2) the samples are balanced, if they were not, the the accuracy would not be indicative, as it does not give importnace to classes with small support, but this is not the case"
   ]
  },
  {
   "cell_type": "markdown",
   "id": "9ce7e648",
   "metadata": {},
   "source": [
    "### Confusion matrix with seaborn"
   ]
  },
  {
   "cell_type": "code",
   "execution_count": 57,
   "id": "f1349407",
   "metadata": {},
   "outputs": [
    {
     "data": {
      "text/plain": [
       "array([[ 7,  0,  0],\n",
       "       [ 0,  9,  0],\n",
       "       [ 0,  0, 14]], dtype=int64)"
      ]
     },
     "execution_count": 57,
     "metadata": {},
     "output_type": "execute_result"
    }
   ],
   "source": [
    "from sklearn.metrics import confusion_matrix\n",
    "\n",
    "conf_matrix= confusion_matrix(Y_test,Y_test_predicted)\n",
    "conf_matrix"
   ]
  },
  {
   "cell_type": "code",
   "execution_count": 58,
   "id": "a5b1276c",
   "metadata": {},
   "outputs": [],
   "source": [
    "#make it pandas\n",
    "#label_names=np.arange(len(p))\n",
    "conf_matrix_df=pd.DataFrame(conf_matrix)\n",
    "conf_matrix_df.index.name= 'Real'\n",
    "conf_matrix_df.columns.name= 'Predicted'"
   ]
  },
  {
   "cell_type": "code",
   "execution_count": 59,
   "id": "a0606533",
   "metadata": {},
   "outputs": [
    {
     "data": {
      "image/png": "[encoded data removed]",
      "text/plain": [
       "<Figure size 432x288 with 2 Axes>"
      ]
     },
     "metadata": {
      "needs_background": "light"
     },
     "output_type": "display_data"
    }
   ],
   "source": [
    "sns.heatmap(conf_matrix_df, annot=True, cmap='GnBu')\n",
    "plt.show()"
   ]
  },
  {
   "cell_type": "code",
   "execution_count": null,
   "id": "cf4b617e",
   "metadata": {},
   "outputs": [],
   "source": []
  },
  {
   "cell_type": "code",
   "execution_count": null,
   "id": "07aa4f25",
   "metadata": {},
   "outputs": [],
   "source": []
  }
 ],
 "metadata": {
  "kernelspec": {
   "display_name": "Python 3 (ipykernel)",
   "language": "python",
   "name": "python3"
  },
  "language_info": {
   "codemirror_mode": {
    "name": "ipython",
    "version": 3
   },
   "file_extension": ".py",
   "mimetype": "text/x-python",
   "name": "python",
   "nbconvert_exporter": "python",
   "pygments_lexer": "ipython3",
   "version": "3.9.12"
  }
 },
 "nbformat": 4,
 "nbformat_minor": 5
}
